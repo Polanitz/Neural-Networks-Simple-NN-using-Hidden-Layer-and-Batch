{
 "cells": [
  {
   "cell_type": "code",
   "execution_count": 1,
   "metadata": {},
   "outputs": [],
   "source": [
    "import numpy as np"
   ]
  },
  {
   "cell_type": "markdown",
   "metadata": {},
   "source": [
    "First we define our activation function and its derivative"
   ]
  },
  {
   "cell_type": "code",
   "execution_count": 2,
   "metadata": {},
   "outputs": [],
   "source": [
    "def sigmoid(x):\n",
    "    return 1/(1+np.exp(-x))"
   ]
  },
  {
   "cell_type": "code",
   "execution_count": 3,
   "metadata": {},
   "outputs": [],
   "source": [
    "def sigmoid_der(x):\n",
    "    return x*(1-x)"
   ]
  },
  {
   "cell_type": "markdown",
   "metadata": {},
   "source": [
    "The training function"
   ]
  },
  {
   "cell_type": "code",
   "execution_count": 4,
   "metadata": {},
   "outputs": [],
   "source": [
    "def train_NN(x,y,neurnum):\n",
    "    weights1 = 2*np.random.random((x.shape[1],neurnum)) - 1\n",
    "    weights2 = 2*np.random.random((neurnum,1)) - 1\n",
    "\n",
    "    \n",
    "    for j in range(60000):\n",
    "        hidden = sigmoid(np.dot(x,weights1))\n",
    "        output = sigmoid(np.dot(hidden,weights2))\n",
    "    \n",
    "        output_error = y - output\n",
    "                    \n",
    "        out_delta = output_error * sigmoid_der(output)\n",
    "    \n",
    "        hidden_error = out_delta.dot(weights2.T)\n",
    "        \n",
    "        hidden_delta = hidden_error * sigmoid_der(hidden)\n",
    "    \n",
    "        weights2 += hidden.T.dot(out_delta)\n",
    "        weights1 += x.T.dot(hidden_delta)   \n",
    "        \n",
    "    return weights1,weights2\n"
   ]
  },
  {
   "cell_type": "markdown",
   "metadata": {},
   "source": [
    "And the predict function"
   ]
  },
  {
   "cell_type": "code",
   "execution_count": 5,
   "metadata": {},
   "outputs": [],
   "source": [
    "def predict(inputvec,weights):\n",
    "    hidden_val = sigmoid(np.dot(inputvec,weights[0]))\n",
    "    return sigmoid(np.dot(hidden_val,weights[1]))"
   ]
  },
  {
   "cell_type": "markdown",
   "metadata": {},
   "source": [
    "Simple test"
   ]
  },
  {
   "cell_type": "code",
   "execution_count": 6,
   "metadata": {},
   "outputs": [
    {
     "name": "stdout",
     "output_type": "stream",
     "text": [
      "Wall time: 2.6 s\n"
     ]
    }
   ],
   "source": [
    "%%time\n",
    "factor = 1000\n",
    "x = np.array([  [0.2, 0.4, 0.9],\n",
    "                [0.9, 0.2, 0.6],\n",
    "                [0.3, 0.8, 0.3],\n",
    "                [0.4, 0.3, 0.1] ])\n",
    "\n",
    "\n",
    "y = np.array([[0.2],\n",
    "              [0.4],\n",
    "              [0.5],\n",
    "              [0.5]])\n",
    "\n",
    "x *= factor\n",
    "w = train_NN(x,y,3)"
   ]
  },
  {
   "cell_type": "code",
   "execution_count": 7,
   "metadata": {},
   "outputs": [
    {
     "data": {
      "text/plain": [
       "(array([[-0.8058555 ,  0.77793505, -0.67004589],\n",
       "        [-0.0434315 ,  0.17805078,  0.14462688],\n",
       "        [ 0.41663201,  0.23178731, -0.04570786]]), array([[-1.25276297],\n",
       "        [-0.13353139],\n",
       "        [-0.21715136]]))"
      ]
     },
     "execution_count": 7,
     "metadata": {},
     "output_type": "execute_result"
    }
   ],
   "source": [
    "w"
   ]
  },
  {
   "cell_type": "markdown",
   "metadata": {},
   "source": [
    "Test our weights"
   ]
  },
  {
   "cell_type": "code",
   "execution_count": 8,
   "metadata": {},
   "outputs": [
    {
     "name": "stdout",
     "output_type": "stream",
     "text": [
      "[0.2]\n",
      "[0.46666667]\n",
      "[0.46666667]\n",
      "[0.46666667]\n"
     ]
    }
   ],
   "source": [
    "for i in range(4):\n",
    "    print(predict(x[i],w))"
   ]
  },
  {
   "cell_type": "code",
   "execution_count": 9,
   "metadata": {},
   "outputs": [
    {
     "data": {
      "text/plain": [
       "array([0.32635359])"
      ]
     },
     "execution_count": 9,
     "metadata": {},
     "output_type": "execute_result"
    }
   ],
   "source": [
    "predict(np.array([0.5,0.7,0.4]),w)"
   ]
  },
  {
   "cell_type": "markdown",
   "metadata": {},
   "source": [
    "# XOR "
   ]
  },
  {
   "cell_type": "code",
   "execution_count": 10,
   "metadata": {},
   "outputs": [],
   "source": [
    "x2 = np.array([ [0, 0, 1],\n",
    "                [0, 1, 1],\n",
    "                [1, 0, 1],\n",
    "                [1, 1, 1] ])\n",
    "\n",
    "y2 = np.array([[0],\n",
    "               [1],\n",
    "               [1],\n",
    "               [0]])\n",
    "\n",
    "w = train_NN(x2,y2,2)"
   ]
  },
  {
   "cell_type": "code",
   "execution_count": 11,
   "metadata": {},
   "outputs": [
    {
     "data": {
      "text/plain": [
       "(array([[ 1.52539094, 10.3098313 ],\n",
       "        [ 1.52539816, 10.31040556],\n",
       "        [-1.642275  , -4.99839647]]), array([[-27.72820953],\n",
       "        [ 17.82727077]]))"
      ]
     },
     "execution_count": 11,
     "metadata": {},
     "output_type": "execute_result"
    }
   ],
   "source": [
    "w"
   ]
  },
  {
   "cell_type": "code",
   "execution_count": 12,
   "metadata": {},
   "outputs": [
    {
     "name": "stdout",
     "output_type": "stream",
     "text": [
      "[0.01240978]\n",
      "[0.99085126]\n",
      "[0.99085126]\n",
      "[0.01150705]\n"
     ]
    }
   ],
   "source": [
    "for i in range(4):\n",
    "    print(predict(x2[i],w))"
   ]
  }
 ],
 "metadata": {
  "kernelspec": {
   "display_name": "Python 3",
   "language": "python",
   "name": "python3"
  },
  "language_info": {
   "codemirror_mode": {
    "name": "ipython",
    "version": 3
   },
   "file_extension": ".py",
   "mimetype": "text/x-python",
   "name": "python",
   "nbconvert_exporter": "python",
   "pygments_lexer": "ipython3",
   "version": "3.7.4"
  }
 },
 "nbformat": 4,
 "nbformat_minor": 2
}
